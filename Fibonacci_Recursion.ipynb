{
  "nbformat": 4,
  "nbformat_minor": 0,
  "metadata": {
    "colab": {
      "name": "Fibonacci-Recursion.ipynb",
      "provenance": [],
      "authorship_tag": "ABX9TyPyYNW9lfhciBipVJ9J/A3a",
      "include_colab_link": true
    },
    "kernelspec": {
      "name": "python3",
      "display_name": "Python 3"
    },
    "language_info": {
      "name": "python"
    }
  },
  "cells": [
    {
      "cell_type": "markdown",
      "metadata": {
        "id": "view-in-github",
        "colab_type": "text"
      },
      "source": [
        "<a href=\"https://colab.research.google.com/github/aashnijoshi/Fibonacci-series-Recursion/blob/main/Fibonacci_Recursion.ipynb\" target=\"_parent\"><img src=\"https://colab.research.google.com/assets/colab-badge.svg\" alt=\"Open In Colab\"/></a>"
      ]
    },
    {
      "cell_type": "code",
      "execution_count": 4,
      "metadata": {
        "colab": {
          "base_uri": "https://localhost:8080/"
        },
        "id": "EdhWL_U9xBFr",
        "outputId": "0bfd7109-cfe1-4010-ec70-1c6c258e3968"
      },
      "outputs": [
        {
          "output_type": "stream",
          "name": "stdout",
          "text": [
            "fibonacci\n",
            "enter n value \n",
            "6\n",
            "0\n",
            "1\n",
            "1\n",
            "None 2\n",
            "None 3\n",
            "None 5\n"
          ]
        }
      ],
      "source": [
        "#Generating the first 'n' terms of the Fibonacci series using the process of Recursion.\n",
        "#The goal of this program is to further comprehend the complex process of Recursion in python.\n",
        "\n",
        "print(\"Fibonacci series\")\n",
        "#Inputting value of 'n'\n",
        "print(\"Please enter the number of terms you wish to generate. \")\n",
        "n=input()\n",
        "n=int(n)\n",
        "\n",
        "#Defining a function to calculate the nth term of the Fibonacci series\n",
        "def fiboterm(x):\n",
        "    if x==1:\n",
        "        return 0\n",
        "    elif x==2:\n",
        "        return 1\n",
        "    else:\n",
        "        #Applying recursion by calling the same function inside the function\n",
        "        z= fiboterm(x-2)+fiboterm(x-1)\n",
        "        return z\n",
        "\n",
        "#Defining the function to generate the series uptil 'n' terms\n",
        "def fibonacci(n):\n",
        "    \n",
        "    if n==3:\n",
        "        a=0\n",
        "        b=1\n",
        "        c=a+b\n",
        "        print(a)\n",
        "        print(b)\n",
        "        print(c)\n",
        "              \n",
        "        \n",
        "    else:\n",
        "        d=fiboterm(n-2)\n",
        "        e=fiboterm(n-1)\n",
        "        f=d+e\n",
        "        #Recursion\n",
        "        print(fibonacci(n-1),f)\n",
        "        \n",
        "        \n",
        "        \n",
        "fibonacci(n)    \n",
        "        \n",
        "\n"
      ]
    }
  ]
}